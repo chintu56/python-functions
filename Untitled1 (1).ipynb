{
 "cells": [
  {
   "cell_type": "code",
   "execution_count": 24,
   "metadata": {},
   "outputs": [
    {
     "name": "stdout",
     "output_type": "stream",
     "text": [
      "sum of two numbers 20\n",
      "average of two numbers 10.0\n"
     ]
    }
   ],
   "source": [
    "def sumAndAverage(a,b,c,d,e):\n",
    "    print(f\"sum of two numbers {a+b+c+d+e}\")\n",
    "    print(f\"average of two numbers {(a+b+c+d+e)/2}\")\n",
    "sumAndAverage(2,3,4,5,6)\n",
    "    "
   ]
  },
  {
   "cell_type": "code",
   "execution_count": 31,
   "metadata": {},
   "outputs": [
    {
     "name": "stdout",
     "output_type": "stream",
     "text": [
      "Enter the value:2\n"
     ]
    },
    {
     "data": {
      "text/plain": [
       "4"
      ]
     },
     "execution_count": 31,
     "metadata": {},
     "output_type": "execute_result"
    }
   ],
   "source": [
    "def square(a=int(input(\"Enter the value:\"))):\n",
    "    return a**2\n",
    "square()"
   ]
  },
  {
   "cell_type": "code",
   "execution_count": 32,
   "metadata": {},
   "outputs": [
    {
     "name": "stdout",
     "output_type": "stream",
     "text": [
      "Enter the value:3\n"
     ]
    },
    {
     "data": {
      "text/plain": [
       "27"
      ]
     },
     "execution_count": 32,
     "metadata": {},
     "output_type": "execute_result"
    }
   ],
   "source": [
    "def cube(a=int(input(\"Enter the value:\"))):\n",
    "    return a**3\n",
    "cube()"
   ]
  },
  {
   "cell_type": "code",
   "execution_count": 14,
   "metadata": {},
   "outputs": [
    {
     "name": "stdout",
     "output_type": "stream",
     "text": [
      "Enter the radius of the circle:2\n",
      "the area if the circle is 12.56\n"
     ]
    }
   ],
   "source": [
    "def areaOfCircle(a=int(input(\"Enter the radius of the circle:\"))):\n",
    "    area=3.14*a*a\n",
    "    print(f\"the area if the circle is {area}\")\n",
    "areaOfCircle()\n"
   ]
  },
  {
   "cell_type": "code",
   "execution_count": 16,
   "metadata": {},
   "outputs": [
    {
     "name": "stdout",
     "output_type": "stream",
     "text": [
      "Enter the String:bharath\n",
      "the concatination if frist and last chars is bh\n"
     ]
    }
   ],
   "source": [
    "def concatinatingOfCharsInString(s=input(\"Enter the String:\")):\n",
    "    l=len(s)\n",
    "    print(f\"the concatination if frist and last chars is {s[0]+s[l-1]}\" )\n",
    "concatinatingOfCharsInString()"
   ]
  },
  {
   "cell_type": "code",
   "execution_count": 30,
   "metadata": {},
   "outputs": [
    {
     "name": "stdout",
     "output_type": "stream",
     "text": [
      "Enter the value to do arithematic operations:4\n",
      "Enter the frist value:12\n",
      "Enter the second value:3\n",
      "Division of 12 and 3 is 4.0\n"
     ]
    }
   ],
   "source": [
    "a=int(input(\"Enter the value to do arithematic operations:\"))\n",
    "if a==1:\n",
    "    def add(b=int(input(\"Enter the frist value:\")),c=int(input(\"Enter the second value:\"))):\n",
    "        print(f\"Addition of {b} and {c} is {b+c}\")\n",
    "    add()\n",
    "elif a==2:\n",
    "    def sub(b=int(input(\"Enter the frist value:\")),c=int(input(\"Enter the second value:\"))):\n",
    "        print(f\"Subtraction of {b} and {c} is {b-c}\")\n",
    "    sub()\n",
    "elif a==3:\n",
    "    def mul(b=int(input(\"Enter the frist value:\")),c=int(input(\"Enter the second value:\"))):\n",
    "        print(f\"Multiplication of {b} and {c} is {b*c}\")\n",
    "    mul()\n",
    "elif a==4:\n",
    "    def div(b=int(input(\"Enter the frist value:\")),c=int(input(\"Enter the second value:\"))):\n",
    "        d=b/c\n",
    "        \n",
    "        print(f\"Division of {b} and {c} is {d}\")\n",
    "    div()\n",
    "elif a==5:\n",
    "    def mod(b=int(input(\"Enter the frist value:\")),c=int(input(\"Enter the second value:\"))):\n",
    "        print(f\"Remainder of {b} and {c} is {b%c}\")\n",
    "    mod()\n",
    "else:\n",
    "    print(\"Arithematic operations not possible\")\n",
    "    "
   ]
  },
  {
   "cell_type": "code",
   "execution_count": null,
   "metadata": {},
   "outputs": [],
   "source": []
  }
 ],
 "metadata": {
  "kernelspec": {
   "display_name": "Python 3",
   "language": "python",
   "name": "python3"
  },
  "language_info": {
   "codemirror_mode": {
    "name": "ipython",
    "version": 3
   },
   "file_extension": ".py",
   "mimetype": "text/x-python",
   "name": "python",
   "nbconvert_exporter": "python",
   "pygments_lexer": "ipython3",
   "version": "3.8.5"
  }
 },
 "nbformat": 4,
 "nbformat_minor": 4
}
