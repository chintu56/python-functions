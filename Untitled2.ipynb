{
 "cells": [
  {
   "cell_type": "code",
   "execution_count": 4,
   "metadata": {},
   "outputs": [
    {
     "name": "stdout",
     "output_type": "stream",
     "text": [
      "[12, 2, 34, 45, 56, 67, 78]\n",
      "[13, 3, 35, 46, 57, 68, 79]\n"
     ]
    }
   ],
   "source": [
    "def fun(i):\n",
    "    return i+1\n",
    "l2=[12,2,34,45,56,67,78]\n",
    "l2=list(map(fun,l1))\n",
    "print(l1)\n",
    "print(l2)"
   ]
  },
  {
   "cell_type": "code",
   "execution_count": 11,
   "metadata": {},
   "outputs": [
    {
     "name": "stdout",
     "output_type": "stream",
     "text": [
      "[12, 2, 3, 34, 45, 56, 67, 78]\n",
      "[15, 5, 6, 37, 48, 59, 70, 81]\n"
     ]
    }
   ],
   "source": [
    "l1=[12,2,3,34,45,56,67,78]\n",
    "l2=list(map(lambda i:i+3,l1))\n",
    "print(l1)\n",
    "print(l2)\n"
   ]
  },
  {
   "cell_type": "code",
   "execution_count": 12,
   "metadata": {},
   "outputs": [
    {
     "name": "stdout",
     "output_type": "stream",
     "text": [
      "[12, 2, 3, 34, 45, 56, 67, 78]\n",
      "[144, 4, 9, 1156, 2025, 3136, 4489, 6084]\n"
     ]
    }
   ],
   "source": [
    "\n",
    "l1=[12,2,3,34,45,56,67,78]\n",
    "l2=list(map(lambda i:i*i,l1))\n",
    "print(l1)\n",
    "print(l2)\n"
   ]
  },
  {
   "cell_type": "code",
   "execution_count": 14,
   "metadata": {},
   "outputs": [
    {
     "name": "stdout",
     "output_type": "stream",
     "text": [
      "[12, 2, 3, 34, 45, 56, 67, 78]\n",
      "[479001600, 2, 6, 295232799039604140847618609643520000000, 119622220865480194561963161495657715064383733760000000000, 710998587804863451854045647463724949736497978881168458687447040000000000000, 36471110918188685288249859096605464427167635314049524593701628500267962436943872000000000000000, 11324281178206297831457521158732046228731749579488251990048962825668835325234200766245086213177344000000000000000000]\n"
     ]
    }
   ],
   "source": [
    "import math\n",
    "l1=[12,2,3,34,45,56,67,78]\n",
    "l2=list(map(lambda i:math.factorial(i),l1))\n",
    "print(l1)\n",
    "print(l2)\n"
   ]
  },
  {
   "cell_type": "code",
   "execution_count": 16,
   "metadata": {},
   "outputs": [
    {
     "name": "stdout",
     "output_type": "stream",
     "text": [
      "['red', 'orange', 'pink']\n",
      "['RED', 'ORANGE', 'PINK']\n"
     ]
    }
   ],
   "source": [
    "l1=[\"red\",\"orange\",\"pink\"]\n",
    "l2=list(map(lambda i:i.upper(),l1))\n",
    "print(l1)\n",
    "print(l2)\n"
   ]
  },
  {
   "cell_type": "code",
   "execution_count": 18,
   "metadata": {},
   "outputs": [
    {
     "name": "stdout",
     "output_type": "stream",
     "text": [
      "['red', 'orange', 'pink']\n",
      "['Red', 'Orange', 'Pink']\n"
     ]
    }
   ],
   "source": [
    "l1=[\"red\",\"orange\",\"pink\"]\n",
    "l2=list(map(lambda i:i.title(),l1))\n",
    "print(l1)\n",
    "print(l2)\n"
   ]
  },
  {
   "cell_type": "code",
   "execution_count": 19,
   "metadata": {},
   "outputs": [
    {
     "name": "stdout",
     "output_type": "stream",
     "text": [
      "['red', 'orange', 'pink']\n",
      "['ReD', 'OrangE', 'PinK']\n"
     ]
    }
   ],
   "source": [
    "l1=[\"red\",\"orange\",\"pink\"]\n",
    "l2=list(map(lambda i:i[0].upper()+i[1:len(i)-1]+i[-1].upper(),l1))\n",
    "print(l1)\n",
    "print(l2)\n"
   ]
  },
  {
   "cell_type": "code",
   "execution_count": null,
   "metadata": {},
   "outputs": [],
   "source": [
    "###Filter Function"
   ]
  },
  {
   "cell_type": "code",
   "execution_count": 20,
   "metadata": {},
   "outputs": [
    {
     "name": "stdout",
     "output_type": "stream",
     "text": [
      "[0, 1, 2, 3, 4, 5, 6, 7, 8, 9, 10]\n",
      "[0, 2, 4, 6, 8, 10]\n"
     ]
    }
   ],
   "source": [
    "def fun(i):\n",
    "    if i%2==0:\n",
    "        return True\n",
    "    else:\n",
    "        return False\n",
    "l1=[0,1,2,3,4,5,6,7,8,9,10]\n",
    "l2=list(filter(fun,l1))\n",
    "print(l1)\n",
    "print(l2)"
   ]
  },
  {
   "cell_type": "code",
   "execution_count": 22,
   "metadata": {},
   "outputs": [
    {
     "name": "stdout",
     "output_type": "stream",
     "text": [
      "[0, 1, 2, 3, 4, 5, 6, 7, 8, 9, 10]\n",
      "[0, 2, 4, 6, 8, 10]\n"
     ]
    }
   ],
   "source": [
    "\n",
    "l1=[0,1,2,3,4,5,6,7,8,9,10]\n",
    "l2=list(filter(lambda i:i%2==0,l1))\n",
    "print(l1)\n",
    "print(l2)"
   ]
  },
  {
   "cell_type": "code",
   "execution_count": 25,
   "metadata": {},
   "outputs": [
    {
     "name": "stdout",
     "output_type": "stream",
     "text": [
      "[1221, 123, 124, 135, 156, 237, 2347, 457, 789, 787]\n",
      "[237, 2347, 457, 787]\n"
     ]
    }
   ],
   "source": [
    "l1=[1221,123,124,135,156,237,2347,457,789,787]\n",
    "l2=list(filter(lambda i:i%10==7,l1))\n",
    "print(l1)\n",
    "print(l2)"
   ]
  },
  {
   "cell_type": "code",
   "execution_count": 32,
   "metadata": {},
   "outputs": [
    {
     "name": "stdout",
     "output_type": "stream",
     "text": [
      "[1221, 123, 124, 135, 156, 237, 2347, 457, 789, 787]\n",
      "[789, 787]\n"
     ]
    }
   ],
   "source": [
    "l1=[1221,123,124,135,156,237,2347,457,789,787]\n",
    "l2=list(filter(lambda i:str(i)[0] == '7',l1))\n",
    "print(l1)\n",
    "print(l2)"
   ]
  },
  {
   "cell_type": "code",
   "execution_count": null,
   "metadata": {},
   "outputs": [],
   "source": []
  }
 ],
 "metadata": {
  "kernelspec": {
   "display_name": "Python 3",
   "language": "python",
   "name": "python3"
  },
  "language_info": {
   "codemirror_mode": {
    "name": "ipython",
    "version": 3
   },
   "file_extension": ".py",
   "mimetype": "text/x-python",
   "name": "python",
   "nbconvert_exporter": "python",
   "pygments_lexer": "ipython3",
   "version": "3.8.5"
  }
 },
 "nbformat": 4,
 "nbformat_minor": 4
}
