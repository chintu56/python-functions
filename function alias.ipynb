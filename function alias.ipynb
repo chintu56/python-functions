{
 "cells": [
  {
   "cell_type": "code",
   "execution_count": 1,
   "metadata": {},
   "outputs": [
    {
     "name": "stdout",
     "output_type": "stream",
     "text": [
      "hai,Good morning bharath\n"
     ]
    }
   ],
   "source": [
    "def wish(name):\n",
    "    print(f\"hai,Good morning {name}\")\n",
    "wish(\"bharath\")"
   ]
  },
  {
   "cell_type": "code",
   "execution_count": 2,
   "metadata": {},
   "outputs": [
    {
     "name": "stdout",
     "output_type": "stream",
     "text": [
      "hai,Good morning bharath\n",
      "hai,Good morning chintu\n"
     ]
    }
   ],
   "source": [
    "def wish(name):\n",
    "    print(f\"hai,Good morning {name}\")\n",
    "wish(\"bharath\")\n",
    "greeting=wish\n",
    "greeting(\"chintu\")"
   ]
  },
  {
   "cell_type": "code",
   "execution_count": 4,
   "metadata": {},
   "outputs": [
    {
     "name": "stdout",
     "output_type": "stream",
     "text": [
      "hai,Good morning chintu\n"
     ]
    }
   ],
   "source": [
    "def wish(name):\n",
    "    print(f\"hai,Good morning {name}\")\n",
    "#wish(\"bharath\")\n",
    "greeting=wish\n",
    "del wish\n",
    "greeting(\"chintu\")"
   ]
  },
  {
   "cell_type": "code",
   "execution_count": 6,
   "metadata": {},
   "outputs": [
    {
     "name": "stdout",
     "output_type": "stream",
     "text": [
      "100\n",
      "<function b at 0x05D771D8>\n",
      "<function c at 0x05D77610>\n"
     ]
    }
   ],
   "source": [
    "a=100\n",
    "def b():\n",
    "    print(f\"function b is executed\")\n",
    "def c():\n",
    "    print(f\"function c is executed\")\n",
    "def fun(a,b,c):\n",
    "    print(a)\n",
    "    print(b)\n",
    "    print(c)\n",
    "fun(a,b,c)"
   ]
  },
  {
   "cell_type": "code",
   "execution_count": 8,
   "metadata": {},
   "outputs": [
    {
     "name": "stdout",
     "output_type": "stream",
     "text": [
      "function a is executed\n",
      "function b is executed\n",
      "function c is executed\n"
     ]
    }
   ],
   "source": [
    "a=100\n",
    "def a():\n",
    "    print(f\"function a is executed\")\n",
    "def b():\n",
    "    print(f\"function b is executed\")\n",
    "def c():\n",
    "    print(f\"function c is executed\")\n",
    "def fun(a,b,c):\n",
    "    a()\n",
    "    b()\n",
    "    c()\n",
    "    \n",
    "fun(a,b,c)"
   ]
  },
  {
   "cell_type": "code",
   "execution_count": null,
   "metadata": {},
   "outputs": [],
   "source": []
  }
 ],
 "metadata": {
  "kernelspec": {
   "display_name": "Python 3",
   "language": "python",
   "name": "python3"
  },
  "language_info": {
   "codemirror_mode": {
    "name": "ipython",
    "version": 3
   },
   "file_extension": ".py",
   "mimetype": "text/x-python",
   "name": "python",
   "nbconvert_exporter": "python",
   "pygments_lexer": "ipython3",
   "version": "3.8.5"
  }
 },
 "nbformat": 4,
 "nbformat_minor": 4
}
